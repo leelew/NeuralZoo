{
 "cells": [
  {
   "cell_type": "code",
   "execution_count": 1,
   "metadata": {},
   "outputs": [],
   "source": [
    "import pandas as pd"
   ]
  },
  {
   "cell_type": "code",
   "execution_count": 2,
   "metadata": {},
   "outputs": [],
   "source": [
    "df = pd.read_csv('/Users/lewlee/Desktop/Research/6212932.csv')"
   ]
  },
  {
   "cell_type": "code",
   "execution_count": 3,
   "metadata": {},
   "outputs": [
    {
     "data": {
      "text/plain": [
       "array(['YEAR', 'MONTH', 'DAY', 'STID', 'TMAX', 'TMIN', 'TAVG', 'DMAX',\n",
       "       'DMIN', 'DAVG', 'HMAX', 'HMIN', 'HAVG', 'VDEF', '9AVG', 'HDEG',\n",
       "       'CDEG', 'HTMX', 'WCMN', 'PDIR', 'PDFQ', 'SDIR', 'SDFQ', 'WSMX',\n",
       "       'WSMN', 'WSPD', 'WDEV', 'WMAX', '2MAX', '2MIN', '2AVG', '2DEV',\n",
       "       'PMAX', 'PMIN', 'PAVG', 'MSLP', 'AMAX', 'ATOT', 'RAIN', 'RNUM',\n",
       "       'RMAX', 'SMAX', 'SMIN', 'SAVG', 'BMAX', 'BMIN', 'BAVG', 'S5MX',\n",
       "       'S5MN', 'S5AV', 'B5MX', 'B5MN', 'B5AV', 'S25X', 'S25N', 'S25AV',\n",
       "       'S3MX', 'S3MN', 'S3AV', 'S60X', 'S60N', 'S60AV', 'TMAXO', 'TMINO',\n",
       "       'TBAD', 'DMAXO', 'DMINO', 'DBAD', 'HMAXO', 'HMINO', 'HBAD', '9BAD',\n",
       "       '2BAD', 'HTMXO', 'HTBAD', 'WCMNO', 'WCBAD', 'PMAXO', 'PMINO',\n",
       "       'PBAD', 'AMAXO', 'ABAD', 'IBAD', 'WSMXO', 'WSMNO', 'WMAXO', 'WBAD',\n",
       "       'RBAD', 'SMAXO', 'SMINO', 'SBAD', 'BMAXO', 'BMINO', 'BBAD',\n",
       "       'S5MXO', 'S5MNO', 'S5BD', 'B5MX.1', 'B5MXO', 'B5MNO', 'B5BD',\n",
       "       'S25XO', 'S25NO', 'S25BD', 'S3MXO', 'S3MNO', 'S3BD', 'S60XO',\n",
       "       'S60NO', 'S60BD', 'TR05', 'R05BD', 'TR25', 'R25BD', 'TR60',\n",
       "       'R60BD', 'TR75', 'R75BD'], dtype=object)"
      ]
     },
     "execution_count": 3,
     "metadata": {},
     "output_type": "execute_result"
    }
   ],
   "source": [
    "df.columns.values"
   ]
  },
  {
   "cell_type": "code",
   "execution_count": 4,
   "metadata": {},
   "outputs": [
    {
     "data": {
      "text/plain": [
       "(1348574, 118)"
      ]
     },
     "execution_count": 4,
     "metadata": {},
     "output_type": "execute_result"
    }
   ],
   "source": [
    "df.shape"
   ]
  },
  {
   "cell_type": "code",
   "execution_count": 5,
   "metadata": {},
   "outputs": [
    {
     "data": {
      "text/plain": [
       "(142,)"
      ]
     },
     "execution_count": 5,
     "metadata": {},
     "output_type": "execute_result"
    }
   ],
   "source": [
    "num_site = 142\n",
    "name_site = df['STID'][:num_site].values\n",
    "name_site.shape"
   ]
  },
  {
   "cell_type": "code",
   "execution_count": 7,
   "metadata": {},
   "outputs": [
    {
     "name": "stdout",
     "output_type": "stream",
     "text": [
      "        YEAR  MONTH   DAY  STID    TMAX    TMIN    TAVG    DMAX    DMIN  \\\n",
      "0     1994.0    1.0   1.0  ACME -996.00 -996.00 -996.00 -996.00 -996.00   \n",
      "1     1994.0    1.0   2.0  ACME -996.00 -996.00 -996.00 -996.00 -996.00   \n",
      "2     1994.0    1.0   3.0  ACME -996.00 -996.00 -996.00 -996.00 -996.00   \n",
      "3     1994.0    1.0   4.0  ACME -996.00 -996.00 -996.00 -996.00 -996.00   \n",
      "4     1994.0    1.0   5.0  ACME -996.00 -996.00 -996.00 -996.00 -996.00   \n",
      "...      ...    ...   ...   ...     ...     ...     ...     ...     ...   \n",
      "9492  2019.0   12.0  28.0  ACME   59.61   44.06   55.32   58.28   39.84   \n",
      "9493  2019.0   12.0  29.0  ACME   46.36   33.02   39.01   39.55   24.14   \n",
      "9494  2019.0   12.0  30.0  ACME   48.70   27.68   36.80   25.44   17.91   \n",
      "9495  2019.0   12.0  31.0  ACME   53.06   22.72   37.00   24.58   14.16   \n",
      "9496  2020.0    1.0   1.0  ACME   53.74   30.40   44.84   43.85   22.00   \n",
      "\n",
      "        DAVG  ...  S60NO  S60BD      TR05  R05BD      TR25  R25BD      TR60  \\\n",
      "0    -996.00  ... -999.0 -999.0 -999.0000 -999.0 -999.0000 -999.0 -999.0000   \n",
      "1    -996.00  ... -999.0 -999.0 -999.0000 -999.0 -999.0000 -999.0 -999.0000   \n",
      "2    -996.00  ... -999.0 -999.0 -999.0000 -999.0 -999.0000 -999.0 -999.0000   \n",
      "3    -996.00  ... -999.0 -999.0 -999.0000 -999.0 -999.0000 -999.0 -999.0000   \n",
      "4    -996.00  ... -999.0 -999.0 -999.0000 -999.0 -999.0000 -999.0 -999.0000   \n",
      "...      ...  ...    ...    ...       ...    ...       ...    ...       ...   \n",
      "9492   53.40  ...    3.0    0.0    1.5556    0.0    1.5043    0.0    1.6046   \n",
      "9493   29.59  ...  135.0    0.0    1.5334    0.0    1.4817    0.0    1.5905   \n",
      "9494   21.97  ...  279.0    0.0    1.5468    0.0    1.4736    0.0    1.5720   \n",
      "9495   20.74  ...  276.0    0.0    1.5548    0.0    1.4750    0.0    1.5651   \n",
      "9496   31.99  ...  120.0    0.0    1.5570    0.0    1.4756    0.0    1.5631   \n",
      "\n",
      "      R60BD   TR75  R75BD  \n",
      "0    -999.0 -999.0 -999.0  \n",
      "1    -999.0 -999.0 -999.0  \n",
      "2    -999.0 -999.0 -999.0  \n",
      "3    -999.0 -999.0 -999.0  \n",
      "4    -999.0 -999.0 -999.0  \n",
      "...     ...    ...    ...  \n",
      "9492    0.0 -999.0 -999.0  \n",
      "9493    0.0 -999.0 -999.0  \n",
      "9494    0.0 -999.0 -999.0  \n",
      "9495    0.0 -999.0 -999.0  \n",
      "9496    0.0 -999.0 -999.0  \n",
      "\n",
      "[9497 rows x 118 columns]\n"
     ]
    }
   ],
   "source": [
    "import numpy as np\n",
    "\n",
    "for name in name_site:\n",
    "    print(name)\n",
    "    df_new = pd.DataFrame(np.zeros((df.shape[0]//142,df.shape[1])), columns = df.columns)\n",
    "    for time in range(df.shape[0]):\n",
    "        if df.iloc[time, 3] == name:\n",
    "            df_new.iloc[time//142,:] = df.iloc[time].values\n",
    "\n",
    "    df_new.to_csv('/Users/lewlee/Desktop/Mesonet/'+name+'.csv') "
   ]
  },
  {
   "cell_type": "code",
   "execution_count": 9,
   "metadata": {},
   "outputs": [],
   "source": []
  },
  {
   "cell_type": "code",
   "execution_count": null,
   "metadata": {},
   "outputs": [],
   "source": []
  }
 ],
 "metadata": {
  "kernelspec": {
   "display_name": "Python 3",
   "language": "python",
   "name": "python3"
  },
  "language_info": {
   "codemirror_mode": {
    "name": "ipython",
    "version": 3
   },
   "file_extension": ".py",
   "mimetype": "text/x-python",
   "name": "python",
   "nbconvert_exporter": "python",
   "pygments_lexer": "ipython3",
   "version": "3.7.4"
  }
 },
 "nbformat": 4,
 "nbformat_minor": 4
}
